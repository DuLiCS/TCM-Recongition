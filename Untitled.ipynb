{
 "cells": [
  {
   "cell_type": "code",
   "execution_count": 3,
   "metadata": {},
   "outputs": [],
   "source": [
    "import cv2\n",
    "cap = cv2.VideoCapture(0) #设置摄像头 0是默认的摄像头 如果你有多个摄像头的话呢，可以设置1,2,3....\n",
    "while True:   #进入无限循环\n",
    "\tret,frame = cap.read() #将摄像头拍到的图像作为frame值\n",
    "\tcv2.imshow('frame',frame) #将frame的值显示出来 有两个参数 前一个是窗口名字，后面是值\n",
    "\tc = cv2.waitKey(1) #判断退出的条件 当按下'Q'键的时候呢，就退出\n",
    "\tif c == ord('q'):\n",
    "\t\tbreak\n",
    "cap.release()  #常规操作\n",
    "cv2.destroyAllWindows()\n"
   ]
  },
  {
   "cell_type": "code",
   "execution_count": null,
   "metadata": {},
   "outputs": [],
   "source": []
  }
 ],
 "metadata": {
  "kernelspec": {
   "display_name": "Python 3",
   "language": "python",
   "name": "python3"
  },
  "language_info": {
   "codemirror_mode": {
    "name": "ipython",
    "version": 3
   },
   "file_extension": ".py",
   "mimetype": "text/x-python",
   "name": "python",
   "nbconvert_exporter": "python",
   "pygments_lexer": "ipython3",
   "version": "3.6.4"
  }
 },
 "nbformat": 4,
 "nbformat_minor": 2
}
